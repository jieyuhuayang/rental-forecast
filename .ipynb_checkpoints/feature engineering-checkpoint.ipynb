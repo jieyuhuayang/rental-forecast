{
 "cells": [
  {
   "cell_type": "markdown",
   "metadata": {},
   "source": [
    "# feature engineering\n",
    "特征工程是利用数据领域的相关知识来创建能够使机器学习算法达到最佳性能的特征的过程。简而言之，特征工程就是一个把原始数据转变成特征的过程，这些特征可以很好的描述这些数据，并且利用它们建立的模型在未知数据上的表现性能可以达到最优（或者接近最佳性能）。"
   ]
  },
  {
   "cell_type": "code",
   "execution_count": 1,
   "metadata": {},
   "outputs": [],
   "source": [
    "import pandas as pd\n",
    "import numpy as np\n",
    "import lightgbm as lgb\n",
    "import matplotlib.pyplot as plt\n",
    "import seaborn as sns\n",
    "from sklearn.model_selection import KFold\n",
    "from sklearn.metrics import r2_score"
   ]
  },
  {
   "cell_type": "code",
   "execution_count": 3,
   "metadata": {},
   "outputs": [],
   "source": [
    "def parseData(df):\n",
    "    \"\"\"\n",
    "    预处理数据\n",
    "    \"\"\"\n",
    "    df['rentType'][df['rentType']=='--'] = '未知方式'\n",
    "    \n",
    "    # object类型数据转换为category\n",
    "    df['region'] = [re[5: ] for re in df['region']]\n",
    "    df['plate'] = [pl[5: ] for pl in df['plate']]\n",
    "    columns = ['rentType', 'houseFloor', 'houseToward', 'houseDecoration', 'communityName', 'region', 'plate']\n",
    "    for col in columns:\n",
    "        df[col] = df[col].astype('category')\n",
    "        \n",
    "    # buildYear列转换为整型数据，并将缺失值填充为众数\n",
    "    tmp = df['buildYear'].copy()\n",
    "    tmp2 = tmp[tmp!='暂无信息'].astype('int')\n",
    "    tmp[tmp=='暂无信息'] = tmp2.mode().iloc[0]\n",
    "    df['buildYear'] = tmp\n",
    "    df['buildYear'] = df['buildYear'].astype('int')\n",
    "    \n",
    "    # pv和uv的缺失值填充为均值，并且转换为整型\n",
    "    df['pv'].fillna(df['pv'].mean(),inplace=True)\n",
    "    df['uv'].fillna(df['uv'].mean(),inplace=True)\n",
    "    df['pv'] = df['pv'].astype('int')\n",
    "    df['uv'] = df['uv'].astype('int')\n",
    "    \n",
    "    # 去掉部分特征\n",
    "    df.drop('city',axis=1,inplace=True)\n",
    "    \n",
    "    \n",
    "    \n",
    "    return df"
   ]
  },
  {
   "cell_type": "code",
   "execution_count": 4,
   "metadata": {},
   "outputs": [],
   "source": [
    "def washData(df_train, df_test):\n",
    "    \"\"\"\n",
    "    清洗数据\n",
    "    \"\"\"\n",
    "    # 根据异常值检测得出区间\n",
    "    df_train = df_train[df_train['area']<=200]\n",
    "    df_train = df_train[df_train['tradeMoney']<=10000]\n",
    "    df_train = df_train[df_train['totalFloor']<=50]\n",
    "    df_train = df_train[df_train['saleSecHouseNum']<=5]\n",
    "    df_train = df_train[df_train['remainNewNum']<=1500]\n",
    "    \n",
    "    df_train.drop('ID', axis=1, inplace=True)\n",
    "    df_test.drop('ID', axis=1,inplace=True)\n",
    "    \n",
    "    def rentType_trans(rt):\n",
    "        if rt == '未知方式':\n",
    "            return 0\n",
    "        elif rt == '整租':\n",
    "            return 1\n",
    "        elif rt == '合租':\n",
    "            return 2\n",
    "        else:\n",
    "            return 0\n",
    "\n",
    "    df['rentType'] = df['rentType'].apply(rentType_trans)\n",
    "    \n",
    "    # 楼层高低数值化    \n",
    "    def houseFloor_trans(hf):\n",
    "        if hf == '低':\n",
    "            return 0\n",
    "        elif hf == '中':\n",
    "            return 1\n",
    "        else:\n",
    "            return 2\n",
    "\n",
    "    df['houseFloor'] = df['houseFloor'].apply(houseFloor_trans)\n",
    "\n",
    "    \n",
    "    # 房屋朝向数值化\n",
    "    def houseToward_trans(ht):\n",
    "        if ht in ['南', '南北', '东南', '西南']:\n",
    "            return 1\n",
    "        elif ht in ['东', '东西', '西']:\n",
    "            return 2\n",
    "        elif ht in ['西北','东北']:\n",
    "            return 3\n",
    "        else:\n",
    "            return 4\n",
    "\n",
    "    df['houseToward'] = df['houseToward'].apply(houseToward_trans)\n",
    "\n",
    "    # 装修类型\n",
    "    def houseDecoration_trans(hd):\n",
    "        if hd == '毛坯':\n",
    "            return 1\n",
    "        elif hd == '简装':\n",
    "            return 2\n",
    "        else:\n",
    "            return 3\n",
    "\n",
    "    df['houseDecoration'] = df['houseDecoration'].apply(houseDecoration_trans)\n",
    "    return df_train, df_test"
   ]
  },
  {
   "cell_type": "code",
   "execution_count": 5,
   "metadata": {},
   "outputs": [],
   "source": [
    "def feature(df):\n",
    "    \"\"\"\n",
    "    特征\n",
    "    \"\"\"\n",
    "\n",
    "\n",
    "    # 根据房型信息抽取出更细的信息\n",
    "    df['room'] = [int(ht[0]) for ht in df['houseType']]\n",
    "    df['hall'] = [int(ht[2]) for ht in df['houseType']]\n",
    "    df['bath'] = [int(ht[-2]) for ht in df['houseType']]\n",
    "    df['totalRoom'] = df['room'] + df['hall'] + df['bath']\n",
    "    df['area_per_room'] = df['area'] / df['totalRoom']\n",
    "    \n",
    "    \n",
    "    # rentType缺失值的填充\n",
    "    df.loc[(df['area'] <= 50) & (df['room'] >= 3) & (df['rentType'] == 0), 'rentType'] = 2\n",
    "    df.loc[(df['rentType'] == 2) & (df['area'] > 50), 'area'] = df['area'] / (df['room'] + 1)\n",
    "\n",
    "\n",
    "    df.loc[(df['houseDecoration'] == 1) & (df['rentType'] == 0), 'rentType'] = 1\n",
    "\n",
    "    \n",
    "    df['communityName'] = [int(cn[2: ]) for cn in df['communityName']]\n",
    "    \n",
    "    \n",
    "    # 交易月份\n",
    "    df['trade_month'] = [int(time.split('/')[1]) for time in df['tradeTime']]\n",
    "    # 交易季节\n",
    "    df['season'] = [int(np.ceil(month / 3)) for month in df['trade_month']]\n",
    "\n",
    "    # 大致所在楼层\n",
    "    df['floor_ratio'] = round(df['totalFloor'] * ((df['houseFloor'] * 2 + 1) / 6))\n",
    "    df['per_pv'] = df['pv'] / df['uv']\n",
    "    df['mean_pv'] = (df['pv'] + df['uv']) / 2\n",
    "    df['max_pv'] = np.max(df[['pv', 'uv']], axis=1)\n",
    "    df['min_pv'] = np.min(df[['pv', 'uv']], axis=1)\n",
    "    df['std_pv'] = np.std(df[['pv', 'uv']], axis=1)\n",
    "    df['worker_ratio'] = df['totalWorkers'] / df['residentPopulation']\n",
    "    \n",
    "    df['room'] = [1 if rt == 2 else room for rt, room in np.array(df[['rentType', 'room']])]\n",
    "    df['totalRoom'] = [1 if rt == 2 else tr for rt, tr in np.array(df[['rentType', 'totalRoom']])]\n",
    "    \n",
    "    a = df.groupby(['plate', 'rentType']).mean().reset_index()[['plate', 'rentType', 'tradeMoney']].sort_values('tradeMoney', ascending=False).rename(columns={'tradeMoney': 'plate_mean'})\n",
    "    b = df.groupby(['region', 'rentType']).mean().reset_index()[['region', 'rentType', 'tradeMoney']].sort_values('tradeMoney', ascending=False).rename(columns={'tradeMoney': 'region_mean'})\n",
    "    c = df.groupby(['plate', 'rentType']).median().reset_index()[['plate', 'rentType', 'tradeMoney']].sort_values('tradeMoney', ascending=False).rename(columns={'tradeMoney': 'plate_median'})\n",
    "    d = df.groupby(['region', 'rentType']).median().reset_index()[['region', 'rentType', 'tradeMoney']].sort_values('tradeMoney', ascending=False).rename(columns={'tradeMoney': 'region_median'})\n",
    "\n",
    "    df = df.merge(a, how='left', on=['plate', 'rentType'])\n",
    "    df = df.merge(b, how='left', on=['region', 'rentType'])\n",
    "    df = df.merge(c, how='left', on=['plate', 'rentType'])\n",
    "    df = df.merge(d, how='left', on=['region', 'rentType'])\n",
    "    \n",
    "    a = df.groupby(['region']).size().reset_index().rename(columns={0: 'region_num'})\n",
    "    df = df.merge(a, how='left', on=['region'])\n",
    "    a = df.groupby(['plate']).size().reset_index().rename(columns={0: 'plate_num'})\n",
    "    df = df.merge(a, how='left', on=['plate'])\n",
    "    a = df.groupby(['communityName']).size().reset_index().rename(columns={0: 'community_num'})\n",
    "    df = df.merge(a, how='left', on=['communityName'])\n",
    "    a = df[['region', 'plate']].groupby(['region']).apply(lambda x: x['plate'].nunique()).reset_index().rename(columns={0: 'plate_contain'})\n",
    "    df = df.merge(a, how='left', on=['region'])\n",
    "    a = df.groupby('plate').apply(lambda x: x['communityName'].nunique()).reset_index().rename(columns={0: 'community_contain'})\n",
    "    df = df.merge(a, how='left', on=['plate'])\n",
    "    \n",
    "    a = df.groupby('plate').mean().reset_index()[['plate', 'totalFloor']].rename(columns={'totalFloor': 'plate_mean_floor'})\n",
    "    df = df.merge(a, how='left', on=['plate'])\n",
    "    a = df.groupby('plate').median().reset_index()[['plate', 'totalFloor']].rename(columns={'totalFloor': 'plate_median_floor'})\n",
    "    df = df.merge(a, how='left', on=['plate'])\n",
    "    a = df.groupby('plate').mean().reset_index()[['plate', 'area']].rename(columns={'area': 'plate_mean_area'})\n",
    "    df = df.merge(a, how='left', on=['plate'])\n",
    "    a = df.groupby('plate').median().reset_index()[['plate', 'area']].rename(columns={'area': 'plate_median_area'})\n",
    "    df = df.merge(a, how='left', on=['plate'])\n",
    "    \n",
    "    df['room_ratio'] = df['room'] / df['totalRoom']\n",
    "    df['hall_ratio'] = df['hall'] / df['totalRoom']\n",
    "    df['bath_ratio'] = df['bath'] / df['totalRoom']\n",
    "    df['room-bath'] = df['room'] - df['bath']\n",
    "\n",
    "    df['max_type'] = np.argmax(np.array(df[['room', 'hall', 'bath']]), axis=1)\n",
    "\n",
    "    df['trade_avg'] = df['totalTradeArea'] / (df['tradeSecNum'] + 1)\n",
    "\n",
    "    df['originWorkers'] = df['totalWorkers'] - df['newWorkers']\n",
    "\n",
    "    # df['feature2'] = df['plate_mean'] / df['region_mean']\n",
    "\n",
    "    df['area_part'] = pd.qcut(df['area'], q=6, labels=[0, 1, 2, 3, 4, 5])\n",
    "\n",
    "    df['tf_part'] = pd.qcut(df['totalFloor'], q=8, duplicates='drop', labels=[i for i in range(6)])\n",
    "    \n",
    "    # plate, room, area, totalRoom\n",
    "\n",
    "    a = df.groupby(['communityName']).apply(lambda x: x['totalRoom'].tolist()).reset_index()\n",
    "    a['mean_totalRoom'] = [np.mean(i) for i in a[0]]\n",
    "    a['median_totalRoom'] = [np.median(i) for i in a[0]]\n",
    "    a = a.drop(0, axis=1)\n",
    "    df = df.merge(a, how='left', on=['communityName'])\n",
    "\n",
    "    a = df.groupby(['communityName']).apply(lambda x: x['room'].tolist()).reset_index()\n",
    "    a['mean_room'] = [np.mean(i) for i in a[0]]\n",
    "    a['median_room'] = [np.median(i) for i in a[0]]\n",
    "    a = a.drop(0, axis=1)\n",
    "    df = df.merge(a, how='left', on=['communityName'])\n",
    "\n",
    "    a = df.groupby(['plate', 'area_part']).apply(lambda x: x['totalRoom'].tolist()).reset_index()\n",
    "    a['plate_mean_totalRoom'] = [np.mean(i) for i in a[0]]\n",
    "    a['plate_median_totalRoom'] = [np.median(i) for i in a[0]]\n",
    "    a = a.drop(0, axis=1)\n",
    "    df = df.merge(a, how='left', on=['plate', 'area_part'])\n",
    "\n",
    "    a = df.groupby(['plate', 'area_part']).apply(lambda x: x['room'].tolist()).reset_index()\n",
    "    a['plate_mean_room'] = [np.mean(i) for i in a[0]]\n",
    "    a['plate_median_room'] = [np.median(i) for i in a[0]]\n",
    "    a = a.drop(0, axis=1)\n",
    "    df = df.merge(a, how='left', on=['plate', 'area_part'])\n",
    "    \n",
    "    # categorical_feats\n",
    "    categorical_feats = [ 'region', 'plate']\n",
    "    return df, categorical_feats"
   ]
  },
  {
   "cell_type": "code",
   "execution_count": 6,
   "metadata": {},
   "outputs": [],
   "source": [
    "def getData(feature):\n",
    "    \"\"\"\n",
    "    获取数据\n",
    "    \"\"\"\n",
    "    train = pd.read_csv('train_data.csv')\n",
    "    test = pd.read_csv('test_a.csv')\n",
    "    \n",
    "    train = parseData(train)\n",
    "    test = parseData(test)\n",
    "    train, test = washData(train, test)\n",
    "    \n",
    "    train, col = feature(train)\n",
    "    test, col = feature(test)\n",
    "    \n",
    "    target = train.pop('tradeMoney')\n",
    "    features = train.columns\n",
    "    categorical_feats = col\n",
    "    \n",
    "    return train, test, target, features, categorical_feats"
   ]
  },
  {
   "cell_type": "markdown",
   "metadata": {},
   "source": [
    "# feature selection\n",
    "在机器学习的实际应用中，特征数量往往较多，其中可能存在不相关的特征，特征之间也可能存在相互依赖，容易导致如下的后果：\n",
    "Ø 特征个数越多，分析特征、训练模型所需的时间就越长。\n",
    "Ø 特征个数越多，容易引起“维度灾难”，模型也会越复杂，其推广能力会下降。\n",
    "## Filter\n",
    "### 相关系数法\n",
    "### 卡方检验"
   ]
  },
  {
   "cell_type": "code",
   "execution_count": 32,
   "metadata": {},
   "outputs": [],
   "source": [
    "from sklearn.feature_selection import SelectKBest,SelectPercentile\n",
    "from sklearn.feature_selection import chi2"
   ]
  },
  {
   "cell_type": "code",
   "execution_count": 33,
   "metadata": {},
   "outputs": [],
   "source": [
    "X = train_data.drop([\"tradeMoney\"],axis=1)\n",
    "y = train_data[\"tradeMoney\"]"
   ]
  },
  {
   "cell_type": "code",
   "execution_count": 34,
   "metadata": {},
   "outputs": [],
   "source": [
    "# 去掉字符型特征\n",
    "for col in X.columns:\n",
    "    if X[col].dtype.name == \"category\":\n",
    "        X = X.drop([col],axis=1)"
   ]
  },
  {
   "cell_type": "code",
   "execution_count": 35,
   "metadata": {},
   "outputs": [],
   "source": [
    "# 对大数据取log1p\n",
    "# big_col = []\n",
    "# for col in X.columns:\n",
    "#     if X[col].mean()>2000:\n",
    "#         big_col.append(col)\n",
    "#         X[col] = np.log1p(X[col])"
   ]
  },
  {
   "cell_type": "code",
   "execution_count": 36,
   "metadata": {},
   "outputs": [],
   "source": [
    "# X.buildYear = X.buildYear - X.buildYear.min()"
   ]
  },
  {
   "cell_type": "code",
   "execution_count": 37,
   "metadata": {},
   "outputs": [],
   "source": [
    "# for col in X.columns:\n",
    "#     X[col] = X[col].apply(lambda x: round(x,-2))"
   ]
  },
  {
   "cell_type": "code",
   "execution_count": 38,
   "metadata": {},
   "outputs": [],
   "source": [
    "# SelectPercentile 百分比\n",
    "# 浮点型数值太大了 \n",
    "# X_new = SelectKBest(chi2, k=40).fit_transform(X, y)\n",
    "# X_new = SelectPercentile(chi2,percentile = 10).fit(X, y).get_support(indices = True)\n",
    "X_new = SelectKBest(chi2, k=43).fit(X, y).get_support(indices = True)"
   ]
  },
  {
   "cell_type": "markdown",
   "metadata": {},
   "source": [
    "- Information gain（信息增益）"
   ]
  },
  {
   "cell_type": "markdown",
   "metadata": {},
   "source": [
    "- Correlation coefficient scores（相关系数）"
   ]
  },
  {
   "cell_type": "markdown",
   "metadata": {},
   "source": [
    "## Wrapper\n",
    "### 递归特征消除法(RFE)\n"
   ]
  },
  {
   "cell_type": "code",
   "execution_count": 39,
   "metadata": {},
   "outputs": [],
   "source": [
    "from sklearn.feature_selection import RFE"
   ]
  },
  {
   "cell_type": "code",
   "execution_count": 40,
   "metadata": {},
   "outputs": [],
   "source": [
    "from sklearn.linear_model import LinearRegression\n",
    "lr = LinearRegression()"
   ]
  },
  {
   "cell_type": "code",
   "execution_count": 41,
   "metadata": {},
   "outputs": [],
   "source": [
    "rfe = RFE(lr, n_features_to_select=40)"
   ]
  },
  {
   "cell_type": "code",
   "execution_count": 42,
   "metadata": {},
   "outputs": [],
   "source": [
    "X = train_data.drop([\"tradeMoney\"],axis=1)\n",
    "y = train_data[\"tradeMoney\"]"
   ]
  },
  {
   "cell_type": "code",
   "execution_count": 43,
   "metadata": {},
   "outputs": [],
   "source": [
    "# 去掉字符型特征\n",
    "for col in X.columns:\n",
    "    if X[col].dtype.name == \"category\":\n",
    "        X = X.drop([col],axis=1)\n",
    "X_columns = X.columns"
   ]
  },
  {
   "cell_type": "code",
   "execution_count": 44,
   "metadata": {
    "scrolled": true
   },
   "outputs": [
    {
     "data": {
      "text/plain": [
       "RFE(estimator=LinearRegression(copy_X=True, fit_intercept=True, n_jobs=None,\n",
       "                               normalize=False),\n",
       "    n_features_to_select=40, step=1, verbose=0)"
      ]
     },
     "execution_count": 44,
     "metadata": {},
     "output_type": "execute_result"
    }
   ],
   "source": [
    "rfe.fit(X,y)"
   ]
  },
  {
   "cell_type": "code",
   "execution_count": 45,
   "metadata": {},
   "outputs": [
    {
     "name": "stdout",
     "output_type": "stream",
     "text": [
      "Features sorted by their rank:\n",
      "[(1, 'HomeNum'), (1, 'area'), (1, 'bankNum'), (1, 'buildYear'), (1, 'busStationNum'), (1, 'drugStoreNum'), (1, 'gymNum'), (1, 'hospitalNum'), (1, 'interSchoolNum'), (1, 'landMeanPrice'), (1, 'lookNum'), (1, 'mallNum'), (1, 'newWorkers'), (1, 'parkNum'), (1, 'privateSchoolNum'), (1, 'remainNewNum'), (1, 'residentPopulation'), (1, 'saleSecHouseNum'), (1, 'school'), (1, 'schoolNum'), (1, 'shopNum'), (1, 'subwayStationNum'), (1, 'superMarketNum'), (1, 'supplyLandArea'), (1, 'supplyLandNum'), (1, 'supplyNewNum'), (1, 'totalFloor'), (1, 'totalNewTradeArea'), (1, 'totalTradeArea'), (1, 'totalWorkers'), (1, 'tradeLandNum'), (1, 'tradeMeanPrice'), (1, 'tradeNewMeanPrice'), (1, 'tradeNewNum'), (1, 'tradeSecNum'), (1, 'uv'), (1, '交易月份'), (1, '卫'), (1, '厅'), (1, '室'), (2, 'tradeLandArea'), (3, 'pv'), (4, 'totalTradeMoney'), (5, 'totalNewTradeMoney'), (6, 'landTotalPrice')]\n"
     ]
    }
   ],
   "source": [
    "print(\"Features sorted by their rank:\")\n",
    "print(sorted(zip(map(lambda x: round(x, 4), rfe.ranking_), X.columns)))"
   ]
  },
  {
   "cell_type": "code",
   "execution_count": 46,
   "metadata": {},
   "outputs": [
    {
     "data": {
      "text/plain": [
       "(array([1, 1, 1, 1, 1, 1, 1, 1, 1, 1, 1, 1, 1, 1, 1, 1, 1, 1, 1, 1, 4, 1,\n",
       "        1, 1, 5, 1, 1, 1, 1, 1, 1, 1, 1, 2, 6, 1, 1, 1, 1, 3, 1, 1, 1, 1,\n",
       "        1]), 40)"
      ]
     },
     "execution_count": 46,
     "metadata": {},
     "output_type": "execute_result"
    }
   ],
   "source": [
    "rfe.ranking_,rfe.n_features_"
   ]
  },
  {
   "cell_type": "code",
   "execution_count": 47,
   "metadata": {},
   "outputs": [
    {
     "name": "stdout",
     "output_type": "stream",
     "text": [
      "[ True  True  True  True  True  True  True  True  True  True  True  True\n",
      "  True  True  True  True  True  True  True  True False  True  True  True\n",
      " False  True  True  True  True  True  True  True  True False False  True\n",
      "  True  True  True False  True  True  True  True  True]\n"
     ]
    }
   ],
   "source": [
    "print(rfe.support_) "
   ]
  },
  {
   "cell_type": "code",
   "execution_count": 48,
   "metadata": {},
   "outputs": [],
   "source": [
    "sel_features = [f for f, s in zip(X_columns, rfe.support_) if s]"
   ]
  },
  {
   "cell_type": "code",
   "execution_count": 49,
   "metadata": {},
   "outputs": [],
   "source": [
    "train = train_data[sel_features]\n",
    "test = test_data[sel_features]"
   ]
  },
  {
   "cell_type": "code",
   "execution_count": 50,
   "metadata": {},
   "outputs": [],
   "source": [
    "categorical_feats = ['rentType', 'houseFloor', 'houseToward', 'houseDecoration', 'region', 'plate']"
   ]
  },
  {
   "cell_type": "code",
   "execution_count": 51,
   "metadata": {},
   "outputs": [],
   "source": [
    "for col in categorical_feats:\n",
    "    train = pd.concat([train_data[col],train],axis = 1)\n",
    "    test = pd.concat([test_data[col],test],axis = 1)"
   ]
  },
  {
   "cell_type": "code",
   "execution_count": 52,
   "metadata": {},
   "outputs": [],
   "source": [
    "# train.reset_index()\n",
    "# test.reset_index()"
   ]
  },
  {
   "cell_type": "markdown",
   "metadata": {},
   "source": [
    "## Embedded\n",
    "### 基于惩罚项的特征选择法\n",
    "### 基于树模型的特征选择法"
   ]
  },
  {
   "cell_type": "code",
   "execution_count": 53,
   "metadata": {},
   "outputs": [],
   "source": [
    "from sklearn.linear_model import Ridge"
   ]
  },
  {
   "cell_type": "code",
   "execution_count": 54,
   "metadata": {},
   "outputs": [],
   "source": [
    "X = train_data.drop([\"tradeMoney\"],axis=1)\n",
    "y = train_data[\"tradeMoney\"]\n",
    "for col in X.columns:\n",
    "    if X[col].dtype.name == \"category\":\n",
    "        X = X.drop([col],axis=1)\n",
    "X_columns = X.columns"
   ]
  },
  {
   "cell_type": "code",
   "execution_count": 55,
   "metadata": {},
   "outputs": [
    {
     "data": {
      "text/plain": [
       "Ridge(alpha=5, copy_X=True, fit_intercept=True, max_iter=None, normalize=False,\n",
       "      random_state=None, solver='auto', tol=0.001)"
      ]
     },
     "execution_count": 55,
     "metadata": {},
     "output_type": "execute_result"
    }
   ],
   "source": [
    "ridge = Ridge(alpha=5)\n",
    "ridge.fit(X,y)"
   ]
  },
  {
   "cell_type": "code",
   "execution_count": 56,
   "metadata": {},
   "outputs": [],
   "source": [
    "coefSort = ridge.coef_.argsort()"
   ]
  },
  {
   "cell_type": "code",
   "execution_count": 57,
   "metadata": {},
   "outputs": [
    {
     "data": {
      "text/plain": [
       "array([ 2,  1, 32, 11, 17, 13, 10,  5, 16,  6, 41,  8, 23, 28, 40, 25, 21,\n",
       "       37, 36, 31, 34, 24, 20, 38, 35, 39, 33, 26, 22, 29, 27, 15, 19, 42,\n",
       "       44, 14,  0,  7,  4,  9, 30, 12, 18, 43,  3], dtype=int64)"
      ]
     },
     "execution_count": 57,
     "metadata": {},
     "output_type": "execute_result"
    }
   ],
   "source": [
    "coefSort "
   ]
  },
  {
   "cell_type": "code",
   "execution_count": 58,
   "metadata": {},
   "outputs": [],
   "source": [
    "featureCoefSore=ridge.coef_[coefSort]   "
   ]
  },
  {
   "cell_type": "code",
   "execution_count": 59,
   "metadata": {},
   "outputs": [
    {
     "data": {
      "text/plain": [
       "array([-4.38301292e+02, -1.69254244e+02, -1.63740141e+02, -5.87931403e+01,\n",
       "       -3.71155602e+01, -2.62890837e+01, -1.69722257e+01, -8.02956563e+00,\n",
       "       -5.94038370e+00, -5.93989474e+00, -4.79050535e+00, -4.33285297e+00,\n",
       "       -1.36989383e+00, -1.62312942e-01, -6.76635064e-02, -4.74675081e-02,\n",
       "       -1.37987101e-02, -4.45986872e-03, -2.12023321e-03, -1.22916146e-03,\n",
       "       -1.15667229e-07,  5.86155038e-07,  9.75775044e-07,  3.93635622e-04,\n",
       "        1.49620901e-03,  2.38266754e-03,  2.67458704e-03,  3.11321364e-03,\n",
       "        2.93132690e-02,  4.76457160e-02,  1.08160245e+00,  2.79345587e+00,\n",
       "        9.84138723e+00,  1.20649950e+01,  2.03858963e+01,  4.27162016e+01,\n",
       "        5.28124809e+01,  5.53884022e+01,  8.45240152e+01,  9.61512619e+01,\n",
       "        1.10290792e+02,  1.49584651e+02,  1.92802415e+02,  2.54093725e+02,\n",
       "        8.61649262e+02])"
      ]
     },
     "execution_count": 59,
     "metadata": {},
     "output_type": "execute_result"
    }
   ],
   "source": [
    "featureCoefSore"
   ]
  },
  {
   "cell_type": "code",
   "execution_count": 60,
   "metadata": {},
   "outputs": [
    {
     "data": {
      "text/plain": [
       "Index(['厅', '室', 'tradeLandNum', 'privateSchoolNum', 'parkNum', 'drugStoreNum',\n",
       "       'schoolNum', 'buildYear', 'shopNum', 'saleSecHouseNum', 'lookNum',\n",
       "       'busStationNum', 'tradeSecNum', 'remainNewNum', 'uv',\n",
       "       'totalNewTradeArea', 'totalTradeArea', 'newWorkers', 'totalWorkers',\n",
       "       'supplyLandArea', 'landTotalPrice', 'totalNewTradeMoney',\n",
       "       'totalTradeMoney', 'residentPopulation', 'landMeanPrice', 'pv',\n",
       "       'tradeLandArea', 'tradeNewMeanPrice', 'tradeMeanPrice', 'supplyNewNum',\n",
       "       'tradeNewNum', 'bankNum', 'superMarketNum', '交易月份', 'school', 'gymNum',\n",
       "       'area', 'subwayStationNum', 'totalFloor', 'interSchoolNum',\n",
       "       'supplyLandNum', 'hospitalNum', 'mallNum', 'HomeNum', '卫'],\n",
       "      dtype='object')"
      ]
     },
     "execution_count": 60,
     "metadata": {},
     "output_type": "execute_result"
    }
   ],
   "source": [
    "X_columns[coefSort]      # 从小到达排序的特征"
   ]
  },
  {
   "cell_type": "code",
   "execution_count": 61,
   "metadata": {},
   "outputs": [],
   "source": [
    "sel_features = [f for f, s in zip(X_columns, featureCoefSore) if abs(s)> 2 ] # 选择绝对值大于二的特征"
   ]
  },
  {
   "cell_type": "code",
   "execution_count": 62,
   "metadata": {},
   "outputs": [],
   "source": [
    "train = train_data[sel_features]\n",
    "test = test_data[sel_features]"
   ]
  },
  {
   "cell_type": "code",
   "execution_count": 63,
   "metadata": {},
   "outputs": [],
   "source": [
    "for col in categorical_feats:\n",
    "    train = pd.concat([train_data[col],train],axis = 1)\n",
    "    test = pd.concat([test_data[col],test],axis = 1)"
   ]
  },
  {
   "cell_type": "markdown",
   "metadata": {},
   "source": [
    "- 基于树模型的特征选择法"
   ]
  },
  {
   "cell_type": "markdown",
   "metadata": {},
   "source": [
    "- 随机森林 平均不纯度减少（mean decrease impurity"
   ]
  },
  {
   "cell_type": "code",
   "execution_count": 64,
   "metadata": {},
   "outputs": [],
   "source": [
    "X = train_data.drop([\"tradeMoney\"],axis=1)\n",
    "y = train_data[\"tradeMoney\"]\n",
    "for col in X.columns:\n",
    "    if X[col].dtype.name == \"category\":\n",
    "        X = X.drop([col],axis=1)\n",
    "X_columns = X.columns"
   ]
  },
  {
   "cell_type": "code",
   "execution_count": 65,
   "metadata": {},
   "outputs": [
    {
     "name": "stdout",
     "output_type": "stream",
     "text": [
      "Features sorted by their score:\n",
      "[(0.547, 'area'), (0.1879, 'tradeMeanPrice'), (0.0331, 'totalFloor'), (0.0326, 'buildYear'), (0.0296, 'busStationNum'), (0.0281, 'tradeNewMeanPrice'), (0.0166, 'gymNum'), (0.0094, 'HomeNum'), (0.0084, 'interSchoolNum'), (0.0077, 'totalWorkers'), (0.0067, 'remainNewNum'), (0.0057, 'bankNum'), (0.0053, 'tradeSecNum'), (0.0051, 'saleSecHouseNum'), (0.0051, 'privateSchoolNum'), (0.005, 'pv'), (0.0048, 'residentPopulation'), (0.0043, '室'), (0.0042, '卫'), (0.0042, 'uv'), (0.0039, 'totalTradeArea'), (0.0037, 'totalTradeMoney'), (0.0036, 'superMarketNum'), (0.0035, '交易月份'), (0.0035, 'mallNum'), (0.0029, 'totalNewTradeMoney'), (0.0029, 'shopNum'), (0.0027, 'totalNewTradeArea'), (0.0026, 'newWorkers'), (0.0025, 'tradeNewNum'), (0.0024, '厅'), (0.0024, 'parkNum'), (0.0024, 'drugStoreNum'), (0.0022, 'school'), (0.0021, 'schoolNum'), (0.0014, 'subwayStationNum'), (0.0012, 'lookNum'), (0.0012, 'hospitalNum'), (0.0008, 'supplyNewNum'), (0.0003, 'tradeLandArea'), (0.0003, 'supplyLandArea'), (0.0003, 'landMeanPrice'), (0.0002, 'tradeLandNum'), (0.0002, 'supplyLandNum'), (0.0001, 'landTotalPrice')]\n"
     ]
    }
   ],
   "source": [
    "from sklearn.ensemble import RandomForestRegressor\n",
    "rf = RandomForestRegressor()\n",
    "# 训练随机森林模型，并通过feature_importances_属性获取每个特征的重要性分数。rf = RandomForestRegressor()\n",
    "rf.fit(X, y)\n",
    "print(\"Features sorted by their score:\")\n",
    "print(sorted(zip(map(lambda x: round(x, 4), rf.feature_importances_), X_columns),\n",
    "             reverse=True))"
   ]
  },
  {
   "cell_type": "code",
   "execution_count": 66,
   "metadata": {},
   "outputs": [],
   "source": [
    "sel_features = [f for f, s in zip(X_columns, rf.feature_importances_) if abs(s)> 0.001 ] # 选择绝对值大于二的特征"
   ]
  },
  {
   "cell_type": "code",
   "execution_count": 67,
   "metadata": {},
   "outputs": [],
   "source": [
    "train = train_data[sel_features]\n",
    "test = test_data[sel_features]\n",
    "for col in categorical_feats:\n",
    "    train = pd.concat([train_data[col],train],axis = 1)\n",
    "    test = pd.concat([test_data[col],test],axis = 1)"
   ]
  },
  {
   "cell_type": "markdown",
   "metadata": {},
   "source": [
    "- 平均精确度减少（mean decrease accuracy）????"
   ]
  },
  {
   "cell_type": "markdown",
   "metadata": {},
   "source": [
    "- 打乱每个特征的特征值顺序,重要特征影响大"
   ]
  },
  {
   "cell_type": "code",
   "execution_count": 68,
   "metadata": {},
   "outputs": [],
   "source": [
    "X = train_data.drop([\"tradeMoney\"],axis=1)\n",
    "Y = train_data[\"tradeMoney\"]\n",
    "for col in X.columns:\n",
    "    if X[col].dtype.name == \"category\":\n",
    "        X = X.drop([col],axis=1)\n",
    "X_columns = X.columns"
   ]
  },
  {
   "cell_type": "code",
   "execution_count": 320,
   "metadata": {},
   "outputs": [
    {
     "ename": "TypeError",
     "evalue": "'StratifiedShuffleSplit' object is not iterable",
     "output_type": "error",
     "traceback": [
      "\u001b[1;31m---------------------------------------------------------------------------\u001b[0m",
      "\u001b[1;31mTypeError\u001b[0m                                 Traceback (most recent call last)",
      "\u001b[1;32m<ipython-input-320-74174015e187>\u001b[0m in \u001b[0;36m<module>\u001b[1;34m()\u001b[0m\n\u001b[0;32m     13\u001b[0m \u001b[1;33m\u001b[0m\u001b[0m\n\u001b[0;32m     14\u001b[0m \u001b[1;31m#crossvalidate the scores on a number of different random splits of the data\u001b[0m\u001b[1;33m\u001b[0m\u001b[1;33m\u001b[0m\u001b[0m\n\u001b[1;32m---> 15\u001b[1;33m \u001b[1;32mfor\u001b[0m \u001b[0mtrain_idx\u001b[0m\u001b[1;33m,\u001b[0m \u001b[0mtest_idx\u001b[0m \u001b[1;32min\u001b[0m \u001b[0mss\u001b[0m\u001b[1;33m:\u001b[0m\u001b[1;33m\u001b[0m\u001b[0m\n\u001b[0m\u001b[0;32m     16\u001b[0m     \u001b[0mX_train\u001b[0m\u001b[1;33m,\u001b[0m \u001b[0mX_test\u001b[0m \u001b[1;33m=\u001b[0m \u001b[0mX\u001b[0m\u001b[1;33m[\u001b[0m\u001b[0mtrain_idx\u001b[0m\u001b[1;33m]\u001b[0m\u001b[1;33m,\u001b[0m \u001b[0mX\u001b[0m\u001b[1;33m[\u001b[0m\u001b[0mtest_idx\u001b[0m\u001b[1;33m]\u001b[0m\u001b[1;33m\u001b[0m\u001b[0m\n\u001b[0;32m     17\u001b[0m     \u001b[0mY_train\u001b[0m\u001b[1;33m,\u001b[0m \u001b[0mY_test\u001b[0m \u001b[1;33m=\u001b[0m \u001b[0mY\u001b[0m\u001b[1;33m[\u001b[0m\u001b[0mtrain_idx\u001b[0m\u001b[1;33m]\u001b[0m\u001b[1;33m,\u001b[0m \u001b[0mY\u001b[0m\u001b[1;33m[\u001b[0m\u001b[0mtest_idx\u001b[0m\u001b[1;33m]\u001b[0m\u001b[1;33m\u001b[0m\u001b[0m\n",
      "\u001b[1;31mTypeError\u001b[0m: 'StratifiedShuffleSplit' object is not iterable"
     ]
    }
   ],
   "source": [
    "# from sklearn.mode_selection import ShuffleSplit\n",
    "\n",
    "from sklearn.model_selection import StratifiedShuffleSplit\n",
    "\n",
    "from sklearn.metrics import r2_score\n",
    "from collections import defaultdict\n",
    "\n",
    "rf = RandomForestRegressor()\n",
    "scores = defaultdict(list)\n",
    "\n",
    "\n",
    "ss=StratifiedShuffleSplit(n_splits=5,test_size=0.25,train_size=0.75,random_state=0)\n",
    "\n",
    "#crossvalidate the scores on a number of different random splits of the data\n",
    "for train_idx, test_idx in ss:\n",
    "    X_train, X_test = X[train_idx], X[test_idx]\n",
    "    Y_train, Y_test = Y[train_idx], Y[test_idx]\n",
    "    # 使用修改前的原始特征训练模型，其acc作为后续混洗特征值后的对比标准。r = rf.fit(X_train, Y_train)\n",
    "    acc = r2_score(Y_test, rf.predict(X_test))\n",
    "    # 遍历每一列特征\n",
    "    for i in range(X.shape[1]):\n",
    "        X_t = X_test.copy()\n",
    "        # 对这一列特征进行混洗，交互了一列特征内部的值的顺序\n",
    "        np.random.shuffle(X_t[:, i])\n",
    "        shuff_acc = r2_score(Y_test, rf.predict(X_t))\n",
    "        # 混洗某个特征值后，计算平均精确度减少程度。scores[names[i]].append((acc-shuff_acc)/acc)\n",
    "print(\"Features sorted by their score:\")\n",
    "print(sorted([(round(np.mean(score), 4), feat) for feat, score in scores.items()], reverse=True))"
   ]
  },
  {
   "cell_type": "markdown",
   "metadata": {},
   "source": [
    "-  ExtraTreesClassifier"
   ]
  },
  {
   "cell_type": "code",
   "execution_count": 69,
   "metadata": {},
   "outputs": [],
   "source": [
    "X = train_data.drop([\"tradeMoney\"],axis=1)\n",
    "Y = train_data[\"tradeMoney\"]\n",
    "for col in X.columns:\n",
    "    if X[col].dtype.name == \"category\":\n",
    "        X = X.drop([col],axis=1)\n",
    "X_columns = X.columns"
   ]
  },
  {
   "cell_type": "code",
   "execution_count": 70,
   "metadata": {},
   "outputs": [
    {
     "name": "stdout",
     "output_type": "stream",
     "text": [
      "[0.35083819 0.03275512 0.01746356 0.01127824 0.13572087 0.17246897\n",
      " 0.04641945 0.00182454 0.00248516 0.00192543 0.00180989 0.00227278\n",
      " 0.0018343  0.00237071 0.00193767 0.00167371 0.00231365 0.00182341\n",
      " 0.00205739 0.00233456 0.01081257 0.01117073 0.01136467 0.01065833\n",
      " 0.00835742 0.00805117 0.00879312 0.00749329 0.0091206  0.00285354\n",
      " 0.00135264 0.00140898 0.00093356 0.0008871  0.00089061 0.00123453\n",
      " 0.00182166 0.00408006 0.00198057 0.01118493 0.01106113 0.02710766\n",
      " 0.01143279 0.04049053 0.00185021]\n"
     ]
    }
   ],
   "source": [
    "from sklearn import metrics\n",
    "from sklearn.ensemble import ExtraTreesClassifier\n",
    "model = ExtraTreesClassifier() # build extra tree model\n",
    "model.fit(X,Y)\n",
    "print(model.feature_importances_) #display importance of each variables"
   ]
  },
  {
   "cell_type": "code",
   "execution_count": 71,
   "metadata": {},
   "outputs": [],
   "source": [
    "sel_features = [f for f, s in zip(X_columns, model.feature_importances_) if abs(s)> 0.002 ] # 选择绝对值大于二的特征"
   ]
  },
  {
   "cell_type": "code",
   "execution_count": 72,
   "metadata": {},
   "outputs": [],
   "source": [
    "train = train_data[sel_features]\n",
    "test = test_data[sel_features]\n",
    "for col in categorical_feats:\n",
    "    train = pd.concat([train_data[col],train],axis = 1)\n",
    "    test = pd.concat([test_data[col],test],axis = 1)"
   ]
  },
  {
   "cell_type": "markdown",
   "metadata": {},
   "source": [
    "### 需要的数据\n",
    "- train\n",
    "- target\n",
    "- test\n",
    "- features\n",
    "- categorical_feats"
   ]
  },
  {
   "cell_type": "code",
   "execution_count": 73,
   "metadata": {},
   "outputs": [],
   "source": [
    "train = train_data.drop([\"tradeMoney\"],axis = 1)\n",
    "target = train_data[\"tradeMoney\"]"
   ]
  },
  {
   "cell_type": "code",
   "execution_count": 74,
   "metadata": {},
   "outputs": [],
   "source": [
    "test = test_data"
   ]
  },
  {
   "cell_type": "code",
   "execution_count": 75,
   "metadata": {},
   "outputs": [],
   "source": [
    "features = train.columns"
   ]
  },
  {
   "cell_type": "code",
   "execution_count": 76,
   "metadata": {},
   "outputs": [],
   "source": [
    "categorical_feats = ['rentType', 'houseFloor', 'houseToward', 'houseDecoration', 'region', 'plate']"
   ]
  },
  {
   "cell_type": "code",
   "execution_count": 77,
   "metadata": {},
   "outputs": [],
   "source": [
    "params = {\n",
    "    'num_leaves': 31,\n",
    "    'min_data_in_leaf': 20,\n",
    "    'min_child_samples':20,\n",
    "    'objective': 'regression',\n",
    "    'learning_rate': 0.01,\n",
    "    \"boosting\": \"gbdt\",\n",
    "    \"feature_fraction\": 0.8,\n",
    "    \"bagging_freq\": 1,\n",
    "    \"bagging_fraction\": 0.85,\n",
    "    \"bagging_seed\": 23,\n",
    "    \"metric\": 'rmse',\n",
    "    \"lambda_l1\": 0.2,\n",
    "    \"nthread\": 4,\n",
    "}"
   ]
  },
  {
   "cell_type": "code",
   "execution_count": 78,
   "metadata": {
    "scrolled": true
   },
   "outputs": [
    {
     "name": "stdout",
     "output_type": "stream",
     "text": [
      "fold 0\n",
      "Training until validation scores don't improve for 200 rounds.\n",
      "[500]\ttraining's rmse: 1168.69\tvalid_1's rmse: 1254.96\n",
      "[1000]\ttraining's rmse: 1019.85\tvalid_1's rmse: 1207.57\n",
      "[1500]\ttraining's rmse: 931.986\tvalid_1's rmse: 1187.47\n",
      "[2000]\ttraining's rmse: 867.876\tvalid_1's rmse: 1174.88\n",
      "[2500]\ttraining's rmse: 818.417\tvalid_1's rmse: 1167.8\n",
      "[3000]\ttraining's rmse: 778.598\tvalid_1's rmse: 1162.95\n",
      "[3500]\ttraining's rmse: 744.37\tvalid_1's rmse: 1158.75\n",
      "[4000]\ttraining's rmse: 715.447\tvalid_1's rmse: 1156.42\n",
      "[4500]\ttraining's rmse: 690.009\tvalid_1's rmse: 1155.07\n",
      "Early stopping, best iteration is:\n",
      "[4533]\ttraining's rmse: 688.419\tvalid_1's rmse: 1154.95\n",
      "fold 1\n",
      "Training until validation scores don't improve for 200 rounds.\n",
      "[500]\ttraining's rmse: 1174.5\tvalid_1's rmse: 1287.39\n",
      "[1000]\ttraining's rmse: 1032.19\tvalid_1's rmse: 1237.88\n",
      "[1500]\ttraining's rmse: 945.807\tvalid_1's rmse: 1213.27\n",
      "[2000]\ttraining's rmse: 882.496\tvalid_1's rmse: 1200.1\n",
      "[2500]\ttraining's rmse: 834.105\tvalid_1's rmse: 1192.23\n",
      "[3000]\ttraining's rmse: 794.229\tvalid_1's rmse: 1186.19\n",
      "[3500]\ttraining's rmse: 761.326\tvalid_1's rmse: 1181.59\n",
      "[4000]\ttraining's rmse: 732.038\tvalid_1's rmse: 1177.97\n",
      "[4500]\ttraining's rmse: 706.597\tvalid_1's rmse: 1175.14\n",
      "[5000]\ttraining's rmse: 684.442\tvalid_1's rmse: 1173.4\n",
      "[5500]\ttraining's rmse: 663.436\tvalid_1's rmse: 1172.15\n",
      "[6000]\ttraining's rmse: 645.095\tvalid_1's rmse: 1171.63\n",
      "[6500]\ttraining's rmse: 628.075\tvalid_1's rmse: 1170.5\n",
      "Early stopping, best iteration is:\n",
      "[6616]\ttraining's rmse: 624.164\tvalid_1's rmse: 1170.32\n",
      "fold 2\n",
      "Training until validation scores don't improve for 200 rounds.\n",
      "[500]\ttraining's rmse: 1154.88\tvalid_1's rmse: 1396.26\n",
      "[1000]\ttraining's rmse: 1008.94\tvalid_1's rmse: 1365.88\n",
      "[1500]\ttraining's rmse: 923.763\tvalid_1's rmse: 1356.28\n",
      "[2000]\ttraining's rmse: 861.937\tvalid_1's rmse: 1345.61\n",
      "[2500]\ttraining's rmse: 814.097\tvalid_1's rmse: 1339.52\n",
      "[3000]\ttraining's rmse: 775.998\tvalid_1's rmse: 1334.87\n",
      "[3500]\ttraining's rmse: 744.131\tvalid_1's rmse: 1331.5\n",
      "[4000]\ttraining's rmse: 716.007\tvalid_1's rmse: 1329.09\n",
      "[4500]\ttraining's rmse: 691.708\tvalid_1's rmse: 1326.99\n",
      "Early stopping, best iteration is:\n",
      "[4694]\ttraining's rmse: 683.236\tvalid_1's rmse: 1326.39\n",
      "fold 3\n",
      "Training until validation scores don't improve for 200 rounds.\n",
      "[500]\ttraining's rmse: 1124.52\tvalid_1's rmse: 1489.1\n",
      "[1000]\ttraining's rmse: 984.224\tvalid_1's rmse: 1440.55\n",
      "[1500]\ttraining's rmse: 903.768\tvalid_1's rmse: 1418.98\n",
      "[2000]\ttraining's rmse: 845.816\tvalid_1's rmse: 1406.99\n",
      "[2500]\ttraining's rmse: 801.502\tvalid_1's rmse: 1399.48\n",
      "[3000]\ttraining's rmse: 765.015\tvalid_1's rmse: 1393.25\n",
      "[3500]\ttraining's rmse: 734.727\tvalid_1's rmse: 1388.76\n",
      "[4000]\ttraining's rmse: 708.334\tvalid_1's rmse: 1386.01\n",
      "[4500]\ttraining's rmse: 684.763\tvalid_1's rmse: 1383.86\n",
      "[5000]\ttraining's rmse: 663.89\tvalid_1's rmse: 1382.29\n",
      "[5500]\ttraining's rmse: 645.046\tvalid_1's rmse: 1381.2\n",
      "[6000]\ttraining's rmse: 628.176\tvalid_1's rmse: 1379.61\n",
      "Early stopping, best iteration is:\n",
      "[6291]\ttraining's rmse: 618.782\tvalid_1's rmse: 1379.12\n",
      "fold 4\n",
      "Training until validation scores don't improve for 200 rounds.\n",
      "[500]\ttraining's rmse: 1158.08\tvalid_1's rmse: 1337.42\n",
      "[1000]\ttraining's rmse: 1013.32\tvalid_1's rmse: 1289.13\n",
      "[1500]\ttraining's rmse: 927.495\tvalid_1's rmse: 1266.53\n",
      "[2000]\ttraining's rmse: 865.739\tvalid_1's rmse: 1254.4\n",
      "[2500]\ttraining's rmse: 817.995\tvalid_1's rmse: 1247.08\n",
      "[3000]\ttraining's rmse: 779.074\tvalid_1's rmse: 1242.24\n",
      "[3500]\ttraining's rmse: 746.155\tvalid_1's rmse: 1240.75\n",
      "Early stopping, best iteration is:\n",
      "[3646]\ttraining's rmse: 737.599\tvalid_1's rmse: 1240.09\n",
      "CV Score: 0.88656 \n"
     ]
    }
   ],
   "source": [
    "folds = KFold(n_splits=5, shuffle=True, random_state=2333)\n",
    "\n",
    "oof_lgb = np.zeros(len(train))\n",
    "predictions_lgb = np.zeros(len(test))\n",
    "feature_importance_df = pd.DataFrame()\n",
    "\n",
    "for fold_, (trn_idx, val_idx) in enumerate(folds.split(train.values, target.values)):\n",
    "    print(\"fold {}\".format(fold_))\n",
    "    trn_data = lgb.Dataset(train.iloc[trn_idx], label=target.iloc[trn_idx])# categorical_feature=categorical_feats)\n",
    "    val_data = lgb.Dataset(train.iloc[val_idx], label=target.iloc[val_idx])#, categorical_feature=categorical_feats)\n",
    "\n",
    "    num_round = 10000\n",
    "    clf = lgb.train(params, trn_data, num_round, valid_sets = [trn_data, val_data], verbose_eval=500, early_stopping_rounds = 200)\n",
    "    \n",
    "    oof_lgb[val_idx] = clf.predict(train.iloc[val_idx], num_iteration=clf.best_iteration)\n",
    "    \n",
    "    fold_importance_df = pd.DataFrame()\n",
    "    fold_importance_df[\"feature\"] = features\n",
    "    fold_importance_df[\"importance\"] = clf.feature_importance()\n",
    "    fold_importance_df[\"fold\"] = fold_ + 1\n",
    "    feature_importance_df = pd.concat([feature_importance_df, fold_importance_df], axis=0)\n",
    "    \n",
    "    predictions_lgb += clf.predict(test, num_iteration=clf.best_iteration) / folds.n_splits\n",
    "    \n",
    "print(\"CV Score: {:<8.5f}\".format(r2_score(target, oof_lgb)))"
   ]
  },
  {
   "cell_type": "code",
   "execution_count": 79,
   "metadata": {},
   "outputs": [
    {
     "data": {
      "image/png": "[encoded data removed]",
      "text/plain": [
       "<Figure size 1008x2880 with 1 Axes>"
      ]
     },
     "metadata": {
      "needs_background": "light"
     },
     "output_type": "display_data"
    }
   ],
   "source": [
    "cols = (feature_importance_df[[\"feature\", \"importance\"]]\n",
    "        .groupby(\"feature\")\n",
    "        .mean()\n",
    "        .sort_values(by=\"importance\", ascending=False)[:1000].index)\n",
    "\n",
    "best_features = feature_importance_df.loc[feature_importance_df.feature.isin(cols)]\n",
    "\n",
    "plt.figure(figsize=(14,40))\n",
    "sns.barplot(x=\"importance\",\n",
    "            y=\"feature\",\n",
    "            data=best_features.sort_values(by=\"importance\",\n",
    "                                           ascending=False))\n",
    "plt.title('LightGBM Features (avg over folds)')\n",
    "plt.tight_layout()"
   ]
  },
  {
   "cell_type": "code",
   "execution_count": 82,
   "metadata": {},
   "outputs": [
    {
     "name": "stdout",
     "output_type": "stream",
     "text": [
      "预测结果最大值：18181.473394218847,预测结果最小值：1179.6343209811814\n",
      "0.9442224332866131\n"
     ]
    },
    {
     "data": {
      "text/plain": [
       "0.9442224332866131"
      ]
     },
     "execution_count": 82,
     "metadata": {},
     "output_type": "execute_result"
    }
   ],
   "source": [
    "online_score(predictions_lgb)"
   ]
  }
 ],
 "metadata": {
  "kernelspec": {
   "display_name": "Python 3",
   "language": "python",
   "name": "python3"
  },
  "language_info": {
   "codemirror_mode": {
    "name": "ipython",
    "version": 3
   },
   "file_extension": ".py",
   "mimetype": "text/x-python",
   "name": "python",
   "nbconvert_exporter": "python",
   "pygments_lexer": "ipython3",
   "version": "3.6.8"
  },
  "toc": {
   "base_numbering": 1,
   "nav_menu": {},
   "number_sections": true,
   "sideBar": true,
   "skip_h1_title": false,
   "title_cell": "Table of Contents",
   "title_sidebar": "Contents",
   "toc_cell": false,
   "toc_position": {},
   "toc_section_display": true,
   "toc_window_display": false
  }
 },
 "nbformat": 4,
 "nbformat_minor": 2
}
