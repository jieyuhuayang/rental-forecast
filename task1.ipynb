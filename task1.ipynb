{
 "cells": [
  {
   "cell_type": "markdown",
   "metadata": {},
   "source": [
    "## 认识数据([赛题说明](https://2019ai.futurelab.tv/contest_detail/3#contest_des))\n",
    "## 了解比赛的背景\n",
    "回归问题  \n",
    "评分函数：\n",
    "$score=1-\\frac{\\sum_{i=1}^{m}\\left(\\hat{y}_{i}-y_{i}\\right)^{2}}{\\sum_{i=1}^{m}\\left(y_{i}-\\overline{y}\\right)^{2}}$\n",
    "\n",
    "## 对比赛数据做EDA\n",
    "### 数据分析\n"
   ]
  },
  {
   "cell_type": "code",
   "execution_count": 1,
   "metadata": {},
   "outputs": [],
   "source": [
    "%matplotlib inline\n",
    "import pandas as pd\n",
    "import numpy as np\n",
    "import matplotlib.pyplot as plt\n",
    "import seaborn as sns \n",
    "from scipy import stats"
   ]
  },
  {
   "cell_type": "code",
   "execution_count": 3,
   "metadata": {},
   "outputs": [],
   "source": [
    "df = pd.read_csv('train_data.csv')\n",
    "df_test = pd.read_csv('test_a.csv')"
   ]
  },
  {
   "cell_type": "markdown",
   "metadata": {},
   "source": [
    "- info 方法：Print a concise summary of a DataFrame.  \n",
    "    This method prints information about a DataFrame including  \n",
    "    the index dtype and column dtypes, non-null values and memory usage."
   ]
  },
  {
   "cell_type": "code",
   "execution_count": 41,
   "metadata": {
    "scrolled": true
   },
   "outputs": [
    {
     "name": "stdout",
     "output_type": "stream",
     "text": [
      "<class 'pandas.core.frame.DataFrame'>\n",
      "RangeIndex: 41440 entries, 0 to 41439\n",
      "Data columns (total 51 columns):\n",
      "ID                    41440 non-null int64\n",
      "area                  41440 non-null float64\n",
      "rentType              41440 non-null object\n",
      "houseType             41440 non-null object\n",
      "houseFloor            41440 non-null object\n",
      "totalFloor            41440 non-null int64\n",
      "houseToward           41440 non-null object\n",
      "houseDecoration       41440 non-null object\n",
      "communityName         41440 non-null object\n",
      "city                  41440 non-null object\n",
      "region                41440 non-null object\n",
      "plate                 41440 non-null object\n",
      "buildYear             41440 non-null object\n",
      "saleSecHouseNum       41440 non-null int64\n",
      "subwayStationNum      41440 non-null int64\n",
      "busStationNum         41440 non-null int64\n",
      "interSchoolNum        41440 non-null int64\n",
      "schoolNum             41440 non-null int64\n",
      "privateSchoolNum      41440 non-null int64\n",
      "hospitalNum           41440 non-null int64\n",
      "drugStoreNum          41440 non-null int64\n",
      "gymNum                41440 non-null int64\n",
      "bankNum               41440 non-null int64\n",
      "shopNum               41440 non-null int64\n",
      "parkNum               41440 non-null int64\n",
      "mallNum               41440 non-null int64\n",
      "superMarketNum        41440 non-null int64\n",
      "totalTradeMoney       41440 non-null int64\n",
      "totalTradeArea        41440 non-null float64\n",
      "tradeMeanPrice        41440 non-null float64\n",
      "tradeSecNum           41440 non-null int64\n",
      "totalNewTradeMoney    41440 non-null int64\n",
      "totalNewTradeArea     41440 non-null int64\n",
      "tradeNewMeanPrice     41440 non-null float64\n",
      "tradeNewNum           41440 non-null int64\n",
      "remainNewNum          41440 non-null int64\n",
      "supplyNewNum          41440 non-null int64\n",
      "supplyLandNum         41440 non-null int64\n",
      "supplyLandArea        41440 non-null float64\n",
      "tradeLandNum          41440 non-null int64\n",
      "tradeLandArea         41440 non-null float64\n",
      "landTotalPrice        41440 non-null int64\n",
      "landMeanPrice         41440 non-null float64\n",
      "totalWorkers          41440 non-null int64\n",
      "newWorkers            41440 non-null int64\n",
      "residentPopulation    41440 non-null int64\n",
      "pv                    41422 non-null float64\n",
      "uv                    41422 non-null float64\n",
      "lookNum               41440 non-null int64\n",
      "tradeTime             41440 non-null object\n",
      "tradeMoney            41440 non-null float64\n",
      "dtypes: float64(10), int64(30), object(11)\n",
      "memory usage: 16.1+ MB\n",
      "None\n"
     ]
    }
   ],
   "source": [
    "print(df.info())\n",
    "\n",
    "# 从pv 和 uv的条数可以发现有缺失"
   ]
  },
  {
   "cell_type": "markdown",
   "metadata": {},
   "source": [
    "#### 缺失值分析  \n",
    "(1) Take a first look at the data  "
   ]
  },
  {
   "cell_type": "code",
   "execution_count": 4,
   "metadata": {},
   "outputs": [
    {
     "name": "stdout",
     "output_type": "stream",
     "text": [
      "              ID   area rentType houseType houseFloor  totalFloor houseToward  \\\n",
      "1927   100258818  79.00     未知方式    2室1厅1卫          高          13          南北   \n",
      "18004  100114011  49.75     未知方式    2室1厅1卫          中           6           南   \n",
      "25693  100067719  87.00     未知方式    2室1厅1卫          低          18           南   \n",
      "27939  100055164  53.28     未知方式    1室1厅1卫          高           6           南   \n",
      "36496  100008201  14.00       合租    3室1厅1卫          中           7           南   \n",
      "14699  100146452  13.20       合租    3室1厅1卫          高           6           南   \n",
      "32576  100029121  12.80       合租    4室1厅1卫          中           6           南   \n",
      "16559  100124457  98.89     未知方式    2室2厅1卫          中          26           南   \n",
      "20681  100096813  42.47     未知方式    1室1厅1卫          低          18           南   \n",
      "30232  100042071  90.00       整租    1室2厅1卫          高          18           南   \n",
      "\n",
      "      houseDecoration communityName city  ... landTotalPrice landMeanPrice  \\\n",
      "1927               其他       XQ01413   SH  ...              0       0.00000   \n",
      "18004              其他       XQ02288   SH  ...              0       0.00000   \n",
      "25693              其他       XQ03393   SH  ...              0       0.00000   \n",
      "27939              其他       XQ03090   SH  ...              0       0.00000   \n",
      "36496              精装       XQ00773   SH  ...              0       0.00000   \n",
      "14699              精装       XQ03099   SH  ...              0       0.00000   \n",
      "32576              精装       XQ03256   SH  ...              0       0.00000   \n",
      "16559              其他       XQ04174   SH  ...              0       0.00000   \n",
      "20681              其他       XQ02763   SH  ...              0       0.00000   \n",
      "30232              精装       XQ02219   SH  ...     1010890000   31115.43266   \n",
      "\n",
      "      totalWorkers  newWorkers  residentPopulation       pv      uv  lookNum  \\\n",
      "1927         19615           0              274232  38896.0  4487.0        0   \n",
      "18004        17401           0              319860  57172.0  7841.0        0   \n",
      "25693         3725           0               63153  13001.0  1265.0        0   \n",
      "27939         5622           0              210903  21289.0  2639.0        0   \n",
      "36496         4370           0              306857  28213.0  2446.0        0   \n",
      "14699         5622           0              210903  25151.0  2137.0        0   \n",
      "32576        13192           0              406803  18838.0  1375.0        0   \n",
      "16559        34823           0              182871   5974.0   833.0        0   \n",
      "20681        90828           0               95192   7709.0   717.0        0   \n",
      "30232        13983           0              223020  26425.0  2881.0        0   \n",
      "\n",
      "       tradeTime  tradeMoney  \n",
      "1927   2018/5/28      5100.0  \n",
      "18004   2018/6/2      3100.0  \n",
      "25693  2018/3/17      3500.0  \n",
      "27939   2018/9/1      3000.0  \n",
      "36496  2018/1/26      2290.0  \n",
      "14699  2018/2/23      1490.0  \n",
      "32576   2018/2/5      1730.0  \n",
      "16559  2018/3/14      8500.0  \n",
      "20681  2018/5/19      4500.0  \n",
      "30232  2018/8/18      8000.0  \n",
      "\n",
      "[10 rows x 51 columns]\n"
     ]
    }
   ],
   "source": [
    "# 查看前5条\n",
    "# print(df.head()) \n",
    "\n",
    "# set seed for reproducibility\n",
    "np.random.seed(0) \n",
    "# 随机抽10条查看\n",
    "print(df.sample(10))"
   ]
  },
  {
   "cell_type": "markdown",
   "metadata": {},
   "source": [
    "(2) See how many missing data points we have  "
   ]
  },
  {
   "cell_type": "code",
   "execution_count": 42,
   "metadata": {},
   "outputs": [
    {
     "name": "stdout",
     "output_type": "stream",
     "text": [
      "ID                     0\n",
      "area                   0\n",
      "rentType               0\n",
      "houseType              0\n",
      "houseFloor             0\n",
      "totalFloor             0\n",
      "houseToward            0\n",
      "houseDecoration        0\n",
      "communityName          0\n",
      "city                   0\n",
      "region                 0\n",
      "plate                  0\n",
      "buildYear              0\n",
      "saleSecHouseNum        0\n",
      "subwayStationNum       0\n",
      "busStationNum          0\n",
      "interSchoolNum         0\n",
      "schoolNum              0\n",
      "privateSchoolNum       0\n",
      "hospitalNum            0\n",
      "drugStoreNum           0\n",
      "gymNum                 0\n",
      "bankNum                0\n",
      "shopNum                0\n",
      "parkNum                0\n",
      "mallNum                0\n",
      "superMarketNum         0\n",
      "totalTradeMoney        0\n",
      "totalTradeArea         0\n",
      "tradeMeanPrice         0\n",
      "tradeSecNum            0\n",
      "totalNewTradeMoney     0\n",
      "totalNewTradeArea      0\n",
      "tradeNewMeanPrice      0\n",
      "tradeNewNum            0\n",
      "remainNewNum           0\n",
      "supplyNewNum           0\n",
      "supplyLandNum          0\n",
      "supplyLandArea         0\n",
      "tradeLandNum           0\n",
      "tradeLandArea          0\n",
      "landTotalPrice         0\n",
      "landMeanPrice          0\n",
      "totalWorkers           0\n",
      "newWorkers             0\n",
      "residentPopulation     0\n",
      "pv                    18\n",
      "uv                    18\n",
      "lookNum                0\n",
      "tradeTime              0\n",
      "tradeMoney             0\n",
      "dtype: int64\n"
     ]
    }
   ],
   "source": [
    "# 查看每个column下缺失的数量\n",
    "missing_values_count = df.isnull().sum()\n",
    "print(missing_values_count)"
   ]
  },
  {
   "cell_type": "code",
   "execution_count": 7,
   "metadata": {},
   "outputs": [
    {
     "name": "stdout",
     "output_type": "stream",
     "text": [
      "(41440, 51) <class 'tuple'>\n",
      "缺失率： 0.0017033840563252327 %\n"
     ]
    }
   ],
   "source": [
    "# how many total missing values do we have?\n",
    "print(df.shape,type(df.shape))\n",
    "total_cells = np.product(df.shape)\n",
    "total_missing = missing_values_count.sum()\n",
    "\n",
    "# percent of data that is missing\n",
    "print('缺失率：',(total_missing/total_cells) * 100,'%')"
   ]
  },
  {
   "cell_type": "markdown",
   "metadata": {},
   "source": [
    "(3) 分析出现缺失值的原因  \n",
    "我们需要考虑的问题之一是：**某个数据的缺失是因为它没有被记录还是根本不存在？**  \n",
    "如果一个数据值缺失是因为它根本不存在，那么我们就没有必要去猜它可能的值，我们需要做的就是让它继续为 NaN；如果一个数据值缺失是因为没有被记录，我们就应该基于与它同行同列的其他值，来猜想它的可能值。 \n",
    "\n",
    "\n",
    "(4) Drop missing values  \n",
    "如果急于做分析，可以采取的方案之一就是剔除掉任何包含缺失值的行或列。  \n",
    "但这种方法是并不推荐，要想得到更好的分析结果，还是要先合理地处理缺失值。"
   ]
  },
  {
   "cell_type": "code",
   "execution_count": 16,
   "metadata": {
    "scrolled": true
   },
   "outputs": [
    {
     "name": "stdout",
     "output_type": "stream",
     "text": [
      "(41440, 51)\n",
      "(41422, 51)\n",
      "pv    0\n",
      "uv    0\n",
      "dtype: int64\n"
     ]
    }
   ],
   "source": [
    "temp = df.dropna()\n",
    "print(df.shape)\n",
    "print(temp.shape)\n",
    "missing_values_count = temp.isnull().sum()\n",
    "print(missing_values_count[['pv','uv']])"
   ]
  },
  {
   "cell_type": "markdown",
   "metadata": {},
   "source": [
    "(5) Filling in missing values  \n",
    "除了剔除缺失值所在的行或者列，另一个方案是去补全缺失值自动补全缺失值"
   ]
  },
  {
   "cell_type": "code",
   "execution_count": 26,
   "metadata": {},
   "outputs": [
    {
     "name": "stdout",
     "output_type": "stream",
     "text": [
      "pv    float64\n",
      "uv    float64\n",
      "dtype: object\n",
      "            pv      uv\n",
      "19341  64827.0  4294.0\n",
      "27611  26706.0  3079.0\n",
      "18699  11722.0  1570.0\n",
      "11006  10489.0  1328.0\n",
      "7034    3220.0   583.0\n"
     ]
    }
   ],
   "source": [
    "# 先查看一下缺失值的数字类型 及 样例\n",
    "print(df.dtypes[['pv','uv']])\n",
    "print(df[['pv','uv']].sample(5))"
   ]
  },
  {
   "cell_type": "code",
   "execution_count": 37,
   "metadata": {},
   "outputs": [
    {
     "name": "stdout",
     "output_type": "stream",
     "text": [
      "ID                    0\n",
      "area                  0\n",
      "rentType              0\n",
      "houseType             0\n",
      "houseFloor            0\n",
      "totalFloor            0\n",
      "houseToward           0\n",
      "houseDecoration       0\n",
      "communityName         0\n",
      "city                  0\n",
      "region                0\n",
      "plate                 0\n",
      "buildYear             0\n",
      "saleSecHouseNum       0\n",
      "subwayStationNum      0\n",
      "busStationNum         0\n",
      "interSchoolNum        0\n",
      "schoolNum             0\n",
      "privateSchoolNum      0\n",
      "hospitalNum           0\n",
      "drugStoreNum          0\n",
      "gymNum                0\n",
      "bankNum               0\n",
      "shopNum               0\n",
      "parkNum               0\n",
      "mallNum               0\n",
      "superMarketNum        0\n",
      "totalTradeMoney       0\n",
      "totalTradeArea        0\n",
      "tradeMeanPrice        0\n",
      "tradeSecNum           0\n",
      "totalNewTradeMoney    0\n",
      "totalNewTradeArea     0\n",
      "tradeNewMeanPrice     0\n",
      "tradeNewNum           0\n",
      "remainNewNum          0\n",
      "supplyNewNum          0\n",
      "supplyLandNum         0\n",
      "supplyLandArea        0\n",
      "tradeLandNum          0\n",
      "tradeLandArea         0\n",
      "landTotalPrice        0\n",
      "landMeanPrice         0\n",
      "totalWorkers          0\n",
      "newWorkers            0\n",
      "residentPopulation    0\n",
      "pv                    0\n",
      "uv                    0\n",
      "lookNum               0\n",
      "tradeTime             0\n",
      "tradeMoney            0\n",
      "dtype: int64\n",
      "(41440, 51)\n"
     ]
    }
   ],
   "source": [
    "# 计算出缺失项的均值\n",
    "mean = df[['pv','uv']].mean()\n",
    "\n",
    "df = df.fillna(value=mean)\n",
    "\n",
    "# fiilna填充\n",
    "missing_values_count = df.isnull().sum()\n",
    "print(missing_values_count)\n",
    "print(df.shape)"
   ]
  },
  {
   "cell_type": "markdown",
   "metadata": {},
   "source": [
    "### 特征值分析\n",
    "1. 是否有单调特征列(单调的特征列很大可能是时间)   \n",
    "待补充\n",
    "\n",
    "### 特征nunique分布\n",
    "  1. 出现在测试集中的community，但是在训练集中数量较少\n",
    "  "
   ]
  },
  {
   "cell_type": "code",
   "execution_count": 4,
   "metadata": {},
   "outputs": [
    {
     "name": "stdout",
     "output_type": "stream",
     "text": [
      "4236\n",
      "--------------------------------\n",
      "2469\n"
     ]
    }
   ],
   "source": [
    "# 训练集中的community\n",
    "print(df['communityName'].nunique())\n",
    "print('-'*32)\n",
    "\n",
    "# 测试集中的community\n",
    "print(df_test['communityName'].nunique())"
   ]
  },
  {
   "cell_type": "markdown",
   "metadata": {},
   "source": [
    "2. 统计object类型的特征值出现频次大于100的特征  "
   ]
  },
  {
   "cell_type": "code",
   "execution_count": 15,
   "metadata": {},
   "outputs": [
    {
     "name": "stdout",
     "output_type": "stream",
     "text": [
      "houseType\n",
      "communityName\n",
      "tradeTime\n"
     ]
    }
   ],
   "source": [
    "for cols in df.columns:\n",
    "    if df[cols].nunique()>100 and df[cols].dtype=='object':\n",
    "        print(cols)"
   ]
  },
  {
   "cell_type": "markdown",
   "metadata": {},
   "source": [
    "### Label分布\n",
    "  1. 不同的特征值的样本的label的分布"
   ]
  },
  {
   "cell_type": "code",
   "execution_count": 17,
   "metadata": {},
   "outputs": [
    {
     "data": {
      "text/plain": [
       "<matplotlib.axes._subplots.AxesSubplot at 0x223849aa7b8>"
      ]
     },
     "execution_count": 17,
     "metadata": {},
     "output_type": "execute_result"
    },
    {
     "data": {
      "image/png": "[encoded data removed]",
      "text/plain": [
       "<Figure size 1152x432 with 1 Axes>"
      ]
     },
     "metadata": {},
     "output_type": "display_data"
    }
   ],
   "source": [
    "sns.set_style('white')\n",
    "fig, ax = plt.subplots(figsize=(16, 6))\n",
    "sns.distplot(df['tradeMoney'])"
   ]
  },
  {
   "cell_type": "code",
   "execution_count": 19,
   "metadata": {},
   "outputs": [
    {
     "name": "stdout",
     "output_type": "stream",
     "text": [
      "10000 : 0.93316\n",
      "20000 : 0.98625\n",
      "30000 : 0.99534\n",
      "40000 : 0.99771\n",
      "50000 : 0.99831\n",
      "60000 : 0.99889\n",
      "70000 : 0.99908\n",
      "80000 : 0.99930\n",
      "90000 : 0.99944\n"
     ]
    }
   ],
   "source": [
    "# 筛选数据后再进行观察\n",
    "num = len(df.index)\n",
    "\n",
    "for i in range(1, 10):\n",
    "    s = i*10000\n",
    "    print('{:<6}: {:.5f}'.format(s, len(df[df['tradeMoney'] < s]) / num))"
   ]
  },
  {
   "cell_type": "code",
   "execution_count": 20,
   "metadata": {},
   "outputs": [
    {
     "data": {
      "text/plain": [
       "<matplotlib.axes._subplots.AxesSubplot at 0x22384c7e7f0>"
      ]
     },
     "execution_count": 20,
     "metadata": {},
     "output_type": "execute_result"
    },
    {
     "data": {
      "image/png": "[encoded data removed]",
      "text/plain": [
       "<Figure size 576x432 with 1 Axes>"
      ]
     },
     "metadata": {},
     "output_type": "display_data"
    }
   ],
   "source": [
    "df = df[df['tradeMoney'] < 40000]\n",
    "\n",
    "sns.set_style('white')\n",
    "fig, ax = plt.subplots(figsize=(8, 6))\n",
    "sns.distplot(df['tradeMoney'])"
   ]
  },
  {
   "cell_type": "code",
   "execution_count": 49,
   "metadata": {},
   "outputs": [],
   "source": [
    "? pd.DataFrame.nunique"
   ]
  }
 ],
 "metadata": {
  "kernelspec": {
   "display_name": "Python 3",
   "language": "python",
   "name": "python3"
  },
  "language_info": {
   "codemirror_mode": {
    "name": "ipython",
    "version": 3
   },
   "file_extension": ".py",
   "mimetype": "text/x-python",
   "name": "python",
   "nbconvert_exporter": "python",
   "pygments_lexer": "ipython3",
   "version": "3.6.8"
  },
  "toc": {
   "base_numbering": 1,
   "nav_menu": {},
   "number_sections": true,
   "sideBar": true,
   "skip_h1_title": false,
   "title_cell": "Table of Contents",
   "title_sidebar": "Contents",
   "toc_cell": false,
   "toc_position": {
    "height": "calc(100% - 180px)",
    "left": "10px",
    "top": "150px",
    "width": "243.063px"
   },
   "toc_section_display": true,
   "toc_window_display": true
  }
 },
 "nbformat": 4,
 "nbformat_minor": 2
}
